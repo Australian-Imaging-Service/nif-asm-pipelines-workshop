{
 "cells": [
  {
   "cell_type": "code",
   "execution_count": null,
   "id": "782ea19f",
   "metadata": {},
   "outputs": [],
   "source": []
  }
 ],
 "metadata": {
  "kernelspec": {
   "display_name": "Bash",
   "language": "bash",
   "name": "bash"
  }
 },
 "nbformat": 4,
 "nbformat_minor": 5
}
